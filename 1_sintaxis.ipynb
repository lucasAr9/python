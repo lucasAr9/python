{
 "cells": [
  {
   "cell_type": "markdown",
   "metadata": {
    "pycharm": {
     "name": "#%% md\n"
    }
   },
   "source": [
    "# Sintaxis básica de Python"
   ]
  },
  {
   "cell_type": "code",
   "execution_count": null,
   "metadata": {
    "pycharm": {
     "name": "#%%\n"
    }
   },
   "outputs": [],
   "source": [
    "# numeros son: int y float\n",
    "# boolean son: bool (0 es false, todo lo demas treu)\n",
    "# cadena de caracteres: str\n",
    "\n",
    "un_entero = int      # solo le estoy diciendo que esa variable es de tipo int\n",
    "un_string = str\n",
    "print(type(un_entero))      # el type dice de que tipo es la variable\n",
    "print(type(un_string))\n",
    "\n",
    "# como importar librerias que estan en el lenguaje instaladas\n",
    "import random\n",
    "numero_aleatorio = random.randrange(5) # un num aleatorio entre el 0..4\n",
    "\n",
    "import string\n",
    "letras = string.ascii_letters        # devuelve todos los ascci\n",
    "print(letras)\n",
    "minusculas = string.ascii_lowercase  # devuelve las minusculas\n",
    "print(minusculas)\n",
    "digitos = string.digits              # devuelve los numeros\n",
    "print(digitos)\n",
    "\n",
    "cadena = input(\"lee desde teclado con el input\")"
   ]
  },
  {
   "cell_type": "code",
   "execution_count": null,
   "metadata": {
    "pycharm": {
     "name": "#%%\n"
    }
   },
   "outputs": [],
   "source": [
    "x = 10\n",
    "print(\"div en flotante: \" + str(x / 2))  # division en flotante, o sea, con coma\n",
    "print(\"division entera: \" + str(x // 2)) # division entera\n",
    "print(\"el resto, MOD:   \" + str(x % 2))  # el resto, MOD\n",
    "print(\"multiplicacion:  \" + str(x * 2))  # multiplicacion\n",
    "print(\"potencia:        \" + str(x ** 2)) # potencia\n",
    "print(\"conversion:      \" + str(int(x))) # conversion explicita a entero\n",
    "print(2 + 2)\n",
    "print(2 - 2)\n",
    "print(r'C:\\some\\name')            # cadena sin formato y no funciona el \\n\n",
    "a, b = 0, 1              # a = 0; b = 1;\n",
    "a, *b = [1, 2, 3, 4, 5]  # a = 1; b = [2, 3, 4, 5];\n",
    "a, *b, c = [1, 2, 3, 4, 5]  # a = 1; b = [2, 3, 4]; c = 5;\n",
    "a, *_ = [1, 2, 3, 4]  # a = 1;\n",
    "eval('(5+3)*4')       # va a convertir la cuenta en numeros y devuelve resultado\n",
    "round(30.424,2)       # redondea el numero y con la cant de digitos desp de coma\n",
    "max(3,5,1,7)          # devuelve el maximo numero del iterable\n",
    "min(3,5,1,7)          # devuelve el minimo numero del iterable\n",
    "\n",
    "# tambien se concatena strings con +\n",
    "# El operador and tiene mayor precedencia que el or.\n",
    "# Operadores relacionales: ==, !=, >, <, >=, <="
   ]
  },
  {
   "cell_type": "code",
   "execution_count": null,
   "metadata": {
    "pycharm": {
     "name": "#%%\n"
    }
   },
   "outputs": [],
   "source": [
    "cadena = \"escribi lo que fuere: \"\n",
    "print(cadena)\n",
    "otra = cadena.title() # convierte la primer letra en mayuscula\n",
    "cadena.upper()  # pasar todo a mayusculas\n",
    "cadena.lower()  # pasar todo a minusculas\n",
    "cadena.isupper() # ver si todo es mayusculas\n",
    "cadena.islower() # ver si todo es minusculas\n",
    "cadena.count(\"s\") # cuenta las \"s\" en la cadena\n",
    "cadena.split(\" \") # devuelve las palabras separadas por el \"espacio\"\n",
    "cadena.replace(\"-\", \"\") # reemplaza los - por nada en este caso\n",
    "cadena.strip(\" ,\\n\") # quita todos los caracteres dentro del string\n",
    "\n",
    "print(cadena[1:3]) # sub-rango de un arreglo con 1 incluido, 3 excluido\n",
    "print(cadena[4]) # devuelve la posicion en el arreglo"
   ]
  },
  {
   "cell_type": "code",
   "execution_count": null,
   "metadata": {
    "pycharm": {
     "name": "#%%\n"
    }
   },
   "outputs": [],
   "source": [
    "lista = [1, 2, 3, 4, 5, 6]\n",
    "if 2 in lista:                    # si el 2 esta en la lista\n",
    "    print(\"si\")                   # el in devuelve true o false\n",
    "else:\n",
    "    print(\"no\")\n",
    "\n",
    "if lista == \"hola mundo\":   # si palabra es distinto a \"hola mundo\"\n",
    "    print(lista)   # en este caso si porque es una lista y un String"
   ]
  },
  {
   "cell_type": "code",
   "execution_count": null,
   "metadata": {
    "pycharm": {
     "name": "#%%\n"
    }
   },
   "outputs": [],
   "source": [
    "mes = 2\n",
    "match mes:\n",
    "    case 1:\n",
    "        print(\"Enero\")\n",
    "    case 2:\n",
    "        print(\"Febrero\")\n",
    "    case 3:\n",
    "        print(\"Ups... Se acabaron las vacaciones!!! :()\")\n",
    "    case 4 | 5 | 6:\n",
    "        print(\"cualquiera de estos tres numeros\")\n",
    "    case _:\n",
    "        print(\"esta es la opcion default\")"
   ]
  },
  {
   "cell_type": "code",
   "execution_count": null,
   "metadata": {
    "pycharm": {
     "name": "#%%\n"
    }
   },
   "outputs": [],
   "source": [
    "numero = 0\n",
    "while numero < 4:\n",
    "    print(numero)\n",
    "    numero += 1"
   ]
  },
  {
   "cell_type": "code",
   "execution_count": null,
   "metadata": {
    "pycharm": {
     "name": "#%%\n"
    }
   },
   "outputs": [],
   "source": [
    "for i in range(1, 3, 1): # valor inicial, valor final - 1, paso\n",
    "    print(i)\n",
    "for i in range(1, 3):    # desde una variable hasta otra\n",
    "    print(i)\n",
    "for i in range(3):       # de 0 al valor dentro del range()\n",
    "    print(i)\n",
    "\n",
    "words = [\"cat\", \"window\", \"hello\"]\n",
    "for w in words:\n",
    "    print(w, len(w))\n",
    "\n",
    "a = [1, 2, 3, 4]\n",
    "for i in range(len(a)):\n",
    "    print(i, a[i])\n",
    "\n",
    "# el for abanza hasta que x es igual a banana\n",
    "numeros = [1, 2, 3, 4, 5, 6, 7]\n",
    "for x in fruits:\n",
    "    print(x)\n",
    "    if x == 4:\n",
    "        break\n",
    "# imprime hasta el 4, con el print desp imprime hasta el 3\n",
    "\n",
    "# este for devuelve una lista\n",
    "import string\n",
    "letras_abc = string.ascii_letters\n",
    "palabra = \"hola que-tal--g\"\n",
    "palabra = [letra for letra in palabra]\n",
    "# devuelve letra para cada letra en la palabra en forma de lista\n",
    "\n",
    "palabra = [letra for letra in palabra if letra in letras_abc]\n",
    "# devuelve letra para cada letra de la palabra solo si la letra esta\n",
    "# en la variable letras_abc, letras_abc = string.ascii_letters\n",
    "# como la sentensia esta entre [] es una lista, pero si es entre\n",
    "# {} lo que devuelve es un diccionario"
   ]
  },
  {
   "cell_type": "code",
   "execution_count": null,
   "metadata": {
    "pycharm": {
     "name": "#%%\n"
    }
   },
   "outputs": [],
   "source": [
    "# reemplaza los {} por lo que esta en la funcion format()\n",
    "nombre = \"el_pepe\"\n",
    "intento = 3\n",
    "print('Hola {} necesitaste {} intentos!!!'.format(\"el_pepe\", intento))\n",
    "# lo mismo de otra forma\n",
    "print(f'Hola {nombre} necesitaste {intento} intentos!!!')\n",
    "\n",
    "# {0:2d} entre los {} el 0 indica la pos del format(), el 2d son los decimales\n",
    "for i in range(5):\n",
    "    print(\"{0:2d} {1:3d} {2:4d}\".format(i, i*i, i*i*i))\n",
    "# lo mismo de otra forma\n",
    "for i in range(5):\n",
    "    print(f\"{i:2d} {i*i:3d} {i*i*i:4d}\")"
   ]
  },
  {
   "cell_type": "code",
   "execution_count": 26,
   "metadata": {
    "pycharm": {
     "name": "#%%\n"
    }
   },
   "outputs": [],
   "source": [
    "# recorrer una lista que en cada posicion contiene listas(string)\n",
    "cadenas = []\n",
    "palabra = input(\"Ingresar palabras hasta escribir \\\"FIN\\\"\")\n",
    "\n",
    "while palabra != \"FIN\":\n",
    "    cadenas.append(palabra)\n",
    "    palabra = input(\"Ingresar palabras hasta escribir \\\"FIN\\\"\")\n",
    "\n",
    "for elem in range(len(cadenas)):\n",
    "    if cadenas[elem][0] == cadenas[elem][len(cadenas[elem])-1]:\n",
    "        print(cadenas[elem])"
   ]
  },
  {
   "cell_type": "markdown",
   "metadata": {
    "pycharm": {
     "name": "#%% md\n"
    }
   },
   "source": [
    "# Tuplas"
   ]
  },
  {
   "cell_type": "code",
   "execution_count": null,
   "metadata": {
    "pycharm": {
     "name": "#%%\n"
    }
   },
   "outputs": [],
   "source": [
    "# se puede crear de ambas maneras\n",
    "t = 12345, 54321, 'hola!'\n",
    "t = (12345, 54321, 'hola!')\n",
    "\n",
    "# la operacion inversa\n",
    "x, y, z = t\n",
    "\n",
    "# para un unico elemento en la tupla\n",
    "t = (123, )"
   ]
  },
  {
   "cell_type": "markdown",
   "metadata": {
    "pycharm": {
     "name": "#%% md\n"
    }
   },
   "source": [
    "# Listas"
   ]
  },
  {
   "cell_type": "code",
   "execution_count": null,
   "metadata": {
    "pycharm": {
     "name": "#%%\n"
    }
   },
   "outputs": [],
   "source": [
    "lista = [1, 2, 3, 4, 5, 6]\n",
    "\n",
    "# len() devuelve la cant de un arreglo, tmb con strings.\n",
    "len(lista)\n",
    "# Al igual que las cadenas, los indices comienzan en 0.\n",
    "lista[0]\n",
    "\n",
    "# Para copiar la lista en otra lista se usa el copy()\n",
    "# si es, otra_lista = lista, son dos referencias a la misma lista.\n",
    "otra_lista = lista.copy()\n",
    "print(\"la otra lista \" + str(otra_lista))\n",
    "print(id(lista))\n",
    "print(id(otra_lista))"
   ]
  },
  {
   "cell_type": "code",
   "execution_count": null,
   "metadata": {
    "pycharm": {
     "name": "#%%\n"
    }
   },
   "outputs": [],
   "source": [
    "# ---> las listas son mutables, aca algunas operaciones <---\n",
    "# La manera de cambiar un elemento de la lista, 1ra pos es 0, ultima es len()\n",
    "lista[0] = \"elemento\"\n",
    "\n",
    "# Agrega un elemento al final de la lista.\n",
    "lista.append(\"elemento\")\n",
    "\n",
    "# Inserta un item en una posicion dada, lista.insert(0, \"elem\") insert 1ra pos.\n",
    "lista.insert(1, \"elemento\")\n",
    "\n",
    "# Quita el primer item de la lista cuyo valor sea x.\n",
    "# Lanza un ValueError si no existe tal item.\n",
    "lista.remove(\"elemento\")\n",
    "\n",
    "# Quita el item en la posicion dada de la lista y lo retorna. Si no se\n",
    "# especifica un indice, a.pop() quita y retorna el ultimo elemento de la lista.\n",
    "lista.pop(2)\n",
    "del lista[2]\n",
    "\n",
    "# Ordena los elementos de la lista in situ. Key es el criterio de orden\n",
    "# con el que se quiere ordenar los elementos del iterable (opcional).\n",
    "lista.sort(key=lista[0])\n",
    "\n",
    "# Extiende la lista agregandole todos los items del iterable otra_lis\n",
    "otra_lis = [\"hola\", \"que\", \"taln\"]\n",
    "lista.extend(otra_lis)\n",
    "\n",
    "# Retorna el indice basado en cero del primer elemento cuyo valor sea igual a x.\n",
    "lista.index(\"elemento\")\n",
    "\n",
    "# Retorna el numero de veces que x aparece en la lista.\n",
    "lista.count(\"elemento\")\n",
    "\n",
    "# Invierte los elementos de la lista in situ.\n",
    "lista.reverse()\n",
    "\n",
    "# para barajear los elementos de la lista, mezclando todos al azar\n",
    "import random\n",
    "random.shuffle(lista)\n",
    "\n",
    "# Elimina todos los elementos de la lista. Equivalente a del a[:].\n",
    "lista.clear()\n",
    "del lista"
   ]
  },
  {
   "cell_type": "code",
   "execution_count": null,
   "metadata": {
    "pycharm": {
     "name": "#%%\n"
    }
   },
   "outputs": [],
   "source": [
    "# datos de color\n",
    "import random\n",
    "lista = [1, 2, 3, 4]\n",
    "# elige un elemento de la lista al asar\n",
    "random.choice(lista)\n",
    "\n",
    "lista = [valor for valor in range(101)]\n",
    "lista = [valor for valor in range(101) if valor % 2 == 0]\n",
    "nombres_repetidos = [n1 for n1 in nombres1 for n2 in nombres2 if n1 == n2]\n",
    "# list comprehension\n",
    "# 1. valor a agregar a la lista\n",
    "# 2. un ciclo, for\n",
    "# 3. (opcional) una condicion o una funcion lambda"
   ]
  },
  {
   "cell_type": "code",
   "execution_count": null,
   "metadata": {
    "pycharm": {
     "name": "#%%\n"
    }
   },
   "outputs": [],
   "source": [
    "# funcion enumerate -> enumera los items de una lista en una tupla\n",
    "seasons = ['Spring', 'Summer', 'Fall', 'Winter']\n",
    "list(enumerate(seasons))\n",
    "# retorna:\n",
    "# [(0, 'Spring'), (1, 'Summer'), (2, 'Fall'), (3, 'Winter')]\n",
    "\n",
    "# funcion zip -> junta todos los items de los iterables en una tupla\n",
    "# y termina cuando termina el iterable mas corto\n",
    "# con el strict=True como parametro las listas tienen que tener el mismo tamaño\n",
    "for item in zip([1, 2, 3], ['sugar', 'spice', 'everything nice']):\n",
    "    print(item)\n",
    "# igual a\n",
    "lis = [1, 2, 3]\n",
    "otra = ['sugar', 'spice', 'everything nice']\n",
    "for i in zip(lis, otra): # o antes ej_tup = zip(lis, otra)\n",
    "    print(i)\n",
    "# retorna:\n",
    "# (1, 'sugar')\n",
    "# (2, 'spice')\n",
    "# (3, 'everything nice')\n",
    "\n",
    "for i, estudiante in enumerate(zip(nombres1, eval1, eval2)):\n",
    "    nombre, e1, e2 = estudiante\n",
    "    e1, e2 = int(e1), int(e2)\n",
    "    print(f\"{i:<} {nombre:<15} {e1:<8} {e2:<8} {e1 + e2:<8}\")"
   ]
  },
  {
   "cell_type": "markdown",
   "metadata": {
    "pycharm": {
     "name": "#%% md\n"
    }
   },
   "source": [
    "# Diccionarios"
   ]
  },
  {
   "cell_type": "code",
   "execution_count": null,
   "metadata": {
    "pycharm": {
     "name": "#%%\n"
    }
   },
   "outputs": [],
   "source": [
    "# ---> los diccionarios son desordenadas, aca algunas operaciones <---\n",
    "# Si se usa una clave que ya esta en uso para guardar un valor, el valor\n",
    "# que estaba asociado con esa clave se pierde, si no esta la clave, se agrega.\n",
    "dicci = {\"enero\": 31, \"febrero\": 100, \"marzo\": 31}\n",
    "\n",
    "# cambiar el valor de la clave con su nombre en corchetes\n",
    "dicci.update[{\"febrero\": 100}]\n",
    "\n",
    "# para obtener el valor de una clave\n",
    "x = dicci.get(\"enero\", [])\n",
    "x = dicci[\"enero\"]\n",
    "\n",
    "# agrega un nuevo iten con clave entre [] y valor desp del =\n",
    "dicci[\"otra_clave\"] = \"otro_valor\"\n",
    "dicci.update({\"otro_clave\": \"otro_valor\"})\n",
    "\n",
    "# eliminar un item del diccionario\n",
    "del dicci[\"enero\"]\n",
    "dicci.pop(\"febrero\")\n",
    "\n",
    "# copiar un diccionario\n",
    "x = dicci.copy()\n",
    "x = dict(dicci)\n",
    "\n",
    "# vaciar todo el dicci\n",
    "dicci.clear()\n",
    "\n",
    "print(list(dicci))             # lista todas la claves igual que .keys()\n",
    "print(sorted(dicci))           # para ordenar de menor a mayor el diccionario"
   ]
  },
  {
   "cell_type": "code",
   "execution_count": null,
   "metadata": {
    "pycharm": {
     "name": "#%%\n"
    }
   },
   "outputs": [],
   "source": [
    "dicci = { \"uno\": [1, 2, 3], \"dos\": [1, 6, 7] }\n",
    "# recorrer un diccionario\n",
    "\n",
    "# las claves\n",
    "for elem in dicci.keys():\n",
    "    print(elem)\n",
    "for elem in dicci:\n",
    "    print(elem)\n",
    "\n",
    "# los valores\n",
    "for elem1 in dicci.values():\n",
    "    print(elem1)\n",
    "for elem1 in dicci:\n",
    "    print(dicci[elem1])\n",
    "\n",
    "# ambos\n",
    "for clave, valor in dicci.items():\n",
    "    print(f\"{clave}: {valor}\")"
   ]
  },
  {
   "cell_type": "code",
   "execution_count": null,
   "metadata": {
    "pycharm": {
     "name": "#%%\n"
    }
   },
   "outputs": [],
   "source": [
    "claves = dicci.keys()  # retorna todas las claves/keys\n",
    "\n",
    "valores = dicci.values() # retorna todos los valores que contienen las claves\n",
    "\n",
    "items = dicci.items() # retorna clave y valores del diccionario (todo el item)\n",
    "                      # devuelve tuplas con clave y valor\n",
    "\n",
    "for elem in valores:\n",
    "    print(elem)"
   ]
  },
  {
   "cell_type": "code",
   "execution_count": null,
   "metadata": {
    "pycharm": {
     "name": "#%%\n"
    }
   },
   "outputs": [],
   "source": [
    "# list comprehension\n",
    "dicci = {clave:valor for clave, valor in enumerate(lista)}\n",
    "dicci = {clave:valor for clave, valor in enumerate(range(100)) if valor < 10}\n",
    "print(dicci)\n",
    "# 1. valor a agregar a la lista\n",
    "# 2. un ciclo, for\n",
    "# 3. (opcional) una condicion o una funcion lambda\n",
    "\n",
    "# crear tres diccionarios con el valor 0\n",
    "x = ('key1', 'key2', 'key3')\n",
    "y = 0\n",
    "thisdict = dict.fromkeys(x, y)"
   ]
  },
  {
   "cell_type": "markdown",
   "metadata": {
    "pycharm": {
     "name": "#%% md\n"
    }
   },
   "source": [
    "# Conjuntos/Set"
   ]
  },
  {
   "cell_type": "code",
   "execution_count": null,
   "metadata": {
    "pycharm": {
     "name": "#%%\n"
    }
   },
   "outputs": [],
   "source": [
    "# los conjuntos son desordenados y no admiten elementos repetidos\n",
    "# como son desordenados no axedo por posicion al conjunto\n",
    "c1 = {'alabanza'}    # toma toda la palabra comop un conjunto\n",
    "c2 = set('alabanza') # toma cada letra como un conjunto sin repetir elementos\n",
    "print(c1)\n",
    "print(type(c1))\n",
    "print(c2)\n",
    "print(type(c2))\n",
    "\n",
    "# para recorrer un conjunto\n",
    "conjunto = {\"b\", \"c\", \"d\", \"f\", \"g\", \"g\"}\n",
    "print(len(conjunto))\n",
    "for elem in conjunto:\n",
    "    print(elem)"
   ]
  },
  {
   "cell_type": "code",
   "execution_count": null,
   "metadata": {
    "pycharm": {
     "name": "#%%\n"
    }
   },
   "outputs": [],
   "source": [
    "conjunto = {\"b\", \"c\", \"d\", \"f\", \"g\", \"g\"}\n",
    "print(conjunto)\n",
    "conjunto_set = set((\"f\", \"g\", \"h\", \"h\"))\n",
    "print(conjunto_set)\n",
    "\n",
    "print(\"i\" in conjunto)\n",
    "todos = conjunto | conjunto_set       # | es union ∪\n",
    "print(todos)                          # (son todos los de los dos conjuntos)\n",
    "\n",
    "en_ambos = conjunto & conjunto_set    # & es interseccion ∩\n",
    "print(en_ambos)                       # (estan en ambos si o si)\n",
    "\n",
    "solo_en_1 = conjunto_set - conjunto   # - es diferencia\n",
    "print(solo_en_1)                      # (que estan en conjunto_set unicamente)"
   ]
  },
  {
   "cell_type": "code",
   "execution_count": null,
   "metadata": {
    "pycharm": {
     "name": "#%%\n"
    }
   },
   "outputs": [],
   "source": [
    "conjunto = {\"b\", \"c\", \"d\", \"f\", \"g\", \"g\"}\n",
    "conjunto_set = set((\"f\", \"g\", \"h\", \"h\"))\n",
    "\n",
    "conjunto = conjunto_set\n",
    "conjunto = conjunto_set.copy()\n",
    "print(id(conjunto))\n",
    "print(id(conjunto_set))"
   ]
  },
  {
   "cell_type": "code",
   "execution_count": null,
   "metadata": {
    "pycharm": {
     "name": "#%%\n"
    }
   },
   "outputs": [],
   "source": [
    "# no se puede reemplazar un elemento por otro, solo agregar y eliminar\n",
    "# agragar un elemento al conjunto con .add\n",
    "conjunto_set.add(\"hola\")\n",
    "print(conjunto_set)\n",
    "\n",
    "# agrega los elementos de un set, tuple, list, dictionarie a otro set\n",
    "conjunto.update(conjunto_set)\n",
    "\n",
    "# para eliminar un elemento de un conjunto\n",
    "conjunto.remove(\"un_elemento\") # si no existe, genera error\n",
    "conjunto.discard(\"un_elemento\") # si no existe, NO genera error\n",
    "\n",
    "# unir dos conjuntos en otro conjunto\n",
    "set3 = set1.union(set2)\n",
    "\n",
    "# insertar los elementos de un conjunto en otro\n",
    "set1.update(set2)\n",
    "\n",
    "# elimina el ultimo elemento del conjunto y lo retorna en una variable\n",
    "x = conjunto.pop() # el conjunto es desordenado, no se puede saber cual elimina\n",
    "\n",
    "# limpia todo el conjunto\n",
    "conjunto.clear()\n",
    "del conjunto\n",
    "\n",
    "# mas operaciones con conjuntos\n",
    "issubset(), isdisjoint(), issuperset()\n",
    "# https://www.w3schools.com/python/python_sets_methods.asp"
   ]
  },
  {
   "cell_type": "markdown",
   "metadata": {
    "pycharm": {
     "name": "#%% md\n"
    }
   },
   "source": [
    "# Pilas y Colas"
   ]
  },
  {
   "cell_type": "code",
   "execution_count": null,
   "metadata": {
    "pycharm": {
     "name": "#%%\n"
    }
   },
   "outputs": [],
   "source": [
    "from collections import deque\n",
    "# los elementos de una pila o cola inicializada\n",
    "d = deque([\"Eric\", \"John\", \"Michael\"])\n",
    "\n",
    "# pila\n",
    "# agrega al final\n",
    "d.append(\"final\")\n",
    "\n",
    "# eliminar ultimo\n",
    "elem = d.pop()\n",
    "\n",
    "# cola\n",
    "# agrega al principio\n",
    "d.appendleft(\"ppio\")\n",
    "\n",
    "# elimina primero\n",
    "elem1 = d.popleft()\n",
    "\n",
    "\"\"\"otra opcion importante del collection es el import Counter\"\"\"\n",
    "from collections import Counter\n",
    "Counter(una_lista)      # cuenta la cantidad que se repiten los elementos\n",
    "Counter(una_lista).most_common(5) # muestra los primeros 5 que mas repite"
   ]
  },
  {
   "cell_type": "markdown",
   "metadata": {
    "pycharm": {
     "name": "#%% md\n"
    }
   },
   "source": [
    "# Funciones"
   ]
  },
  {
   "cell_type": "markdown",
   "metadata": {
    "pycharm": {
     "name": "#%% md\n"
    }
   },
   "source": [
    "**Importante:** las funciones tambien son objetos y tienen sus atributos\n",
    "llamandolos con funcion.\\_\\_doc\\_\\_"
   ]
  },
  {
   "cell_type": "code",
   "execution_count": 16,
   "metadata": {
    "pycharm": {
     "name": "#%%\n"
    }
   },
   "outputs": [],
   "source": [
    "# como se defina la funcion, es como se van a pasar los parametros\n",
    "def standard_arg(arg):\n",
    "    print(arg) # puede ser pasados por posicion o utilizando palabras clave\n",
    "# standard_arg(2) o standard_arg(arg=2)\n",
    "\n",
    "def pos_only_arg(arg, /):\n",
    "    print(arg) # puede ser pasado onicamente parametros posicionales\n",
    "# pos_only_arg(2)\n",
    "\n",
    "def kwd_only_arg(*, arg):\n",
    "    print(arg) # solo permite parametros con palabras clave\n",
    "# kwd_only_arg(arg=3)\n",
    "\n",
    "def combined_example(pos_only, /, standard, *, kwd_only):\n",
    "    print(pos_only, standard, kwd_only) # puede usar las tres anteriores\n",
    "# combined_example(1, 2, kwd_only=3)\n",
    "# combined_example(1, standard=2, kwd_only=3)\n",
    "# combined_example(pos_only=1, standard=2, kwd_only=3)"
   ]
  },
  {
   "cell_type": "code",
   "execution_count": null,
   "metadata": {
    "pycharm": {
     "name": "#%%\n"
    }
   },
   "outputs": [],
   "source": [
    "# con un * defino una TUPLA en los parametros de la funcion\n",
    "# la manera de invocar los argumentos es como si fueran una TUPLA\n",
    "def imprimir(*args):\n",
    "    \"\"\" Esta funcion imprime los argumentos y sus tipos\"\"\"\n",
    "    for valor in args:\n",
    "        print(f\"{valor} es de tipo {type(valor)}\")\n",
    "\n",
    "\n",
    "imprimir(\"hola\")"
   ]
  },
  {
   "cell_type": "code",
   "execution_count": null,
   "metadata": {
    "pycharm": {
     "name": "#%%\n"
    }
   },
   "outputs": [],
   "source": [
    "# con dos ** defino un DICCIONARIO en los parametros de la funcion\n",
    "# la manera de invocar los argumentos es como si fueran una DICCIONARIO\n",
    "# donde banda es clave y lo demas valor\n",
    "def imprimo_otros_valores(**kwargs):\n",
    "    \"\"\" Esta funcion imprime las claves y valores del diccionario pasado \"\"\"\n",
    "    for clave, valor in kwargs.items():\n",
    "        print(f\"{clave} es {valor}\")\n",
    "\n",
    "\n",
    "imprimo_otros_valores(banda1='Nirvana', banda2=\"Foo Fighters\", banda3=\"AC/DC\")"
   ]
  },
  {
   "cell_type": "code",
   "execution_count": null,
   "metadata": {
    "pycharm": {
     "name": "#%%\n"
    }
   },
   "outputs": [],
   "source": [
    "# importante funcion para ordenar\n",
    "# el sort() modifica la lista in situ\n",
    "lista = [1, 4, 5, 2, 7, 8, 3, 6]\n",
    "nueva_lista = lista.sort()\n",
    "print(lista)\n",
    "print(nueva_lista)\n",
    "\n",
    "# el sorted() crea una nueva lista ordenada a partir de un iterable\n",
    "lista = [1, 4, 5, 2, 7, 8, 3, 6]\n",
    "nueva_lista = sorted(lista)\n",
    "print(lista)\n",
    "print(nueva_lista)\n",
    "\n",
    "# ordenar con funcion lambda\n",
    "def ordeno3(usuarios):\n",
    "    \"\"\" Usamos sorted con una expresion lambda\"\"\"\n",
    "    # donde usuario es el criterio de orden, en 0 por nombre, en 2 por puntaje\n",
    "    return sorted(usuarios, key=lambda usuario: usuario[2])\n",
    "\n",
    "\n",
    "usuarios = [\n",
    "    ('JonY BoY', 'Nivel3', 15),\n",
    "    ('a', 'Nivel1', 12),\n",
    "    ('b', 'Nivel1', 12),\n",
    "    ('caike', 'Nivel2', 1020),\n",
    "    ('Straka^', 'Nivel2', 1020),\n",
    "]\n",
    "print(ordeno3(usuarios))"
   ]
  },
  {
   "cell_type": "markdown",
   "metadata": {
    "pycharm": {
     "name": "#%% md\n"
    }
   },
   "source": [
    "# Funciones lambda"
   ]
  },
  {
   "cell_type": "code",
   "execution_count": null,
   "metadata": {
    "pycharm": {
     "name": "#%%\n"
    }
   },
   "outputs": [],
   "source": [
    "cadena = \"hola\"\n",
    "\n",
    "# lambda parametros: expresion\n",
    "# Donde x va a tomar cada valor del iterable de cadena o lista...\n",
    "cadena = map(lambda x: ord(x) + 1, cadena) # pasarlo a ascii y sumar 1\n",
    "cadena = map(lambda x: chr(x), cadena) # pasar el ascii a char\n",
    "cadena = ''.join(cadena)    # para unir los caracteres en una cadena\n",
    "print(cadena)\n",
    "\n",
    "x = lambda a, b, c: a + b + c\n",
    "print(x(2, 3, 4))"
   ]
  },
  {
   "cell_type": "markdown",
   "metadata": {
    "pycharm": {
     "name": "#%% md\n"
    }
   },
   "source": [
    "# Funcion map y filter"
   ]
  },
  {
   "cell_type": "code",
   "execution_count": null,
   "metadata": {
    "pycharm": {
     "name": "#%%\n"
    }
   },
   "outputs": [],
   "source": [
    "# la funcion map lo que hace es aplicarte una funcion a un iterable\n",
    "# tambien usar una funcion lambda dentro del map\n",
    "def doble(x):\n",
    "    return 2 * x\n",
    "\n",
    "lista = [1, 2, 3, 4, 5, 6, 7]\n",
    "dobles = list(map(doble, lista))\n",
    "print(dobles)\n",
    "\n",
    "# Con el map aplica la funcion lambda a todas las x del iterable\n",
    "dobles2 = list(map(lambda x: 2 * x, lista))\n",
    "print(dobles2)\n",
    "\n",
    "# el map se puede usar con varios iterables\n",
    "# y termina cuando termina el iterable mas corto\n",
    "var_donde_almacena = list(map(una_funcion, iterable1, iterable2))"
   ]
  },
  {
   "cell_type": "code",
   "execution_count": null,
   "metadata": {
    "pycharm": {
     "name": "#%%\n"
    }
   },
   "outputs": [],
   "source": [
    "# la fimcopm filter lo que hace es aplicarle una funcion a algunos\n",
    "# elementos de un iterable\n",
    "def es_par(x):\n",
    "    return x % 2 == 0\n",
    "\n",
    "lista = [1, 2, 3, 4, 5, 6, 7]\n",
    "pares = list(filter(es_par, lista))\n",
    "print(pares)\n",
    "\n",
    "# Con filter devuelve los que cumplen la funcion lambda del iterable\n",
    "pares2 = list(filter(lambda x: x % 2 == 0, lista))\n",
    "print(pares2)"
   ]
  }
 ],
 "metadata": {
  "kernelspec": {
   "display_name": "Python 3",
   "language": "python",
   "name": "python3"
  },
  "language_info": {
   "codemirror_mode": {
    "name": "ipython",
    "version": 3
   },
   "file_extension": ".py",
   "mimetype": "text/x-python",
   "name": "python",
   "nbconvert_exporter": "python",
   "pygments_lexer": "ipython3",
   "version": "3.11.1"
  },
  "vscode": {
   "interpreter": {
    "hash": "e7370f93d1d0cde622a1f8e1c04877d8463912d04d973331ad4851f04de6915a"
   }
  }
 },
 "nbformat": 4,
 "nbformat_minor": 2
}
