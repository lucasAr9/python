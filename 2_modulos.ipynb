{
 "cells": [
  {
   "cell_type": "markdown",
   "metadata": {
    "pycharm": {
     "name": "#%% md\n"
    }
   },
   "source": [
    "# Modulos/Imports"
   ]
  },
  {
   "cell_type": "code",
   "execution_count": null,
   "metadata": {
    "pycharm": {
     "name": "#%%\n"
    }
   },
   "outputs": [],
   "source": [
    "from un_modulo import una_funcion as alias # la funcion especifica como alias\n",
    "from un_modulo import una_funcion # la funcion especifica\n",
    "import un_modulo  # el modulo entero\n",
    "\n",
    "# ejemplos --------------------------------------------------------------\n",
    "from fibonacci import fibo as fib\n",
    "fib(800) # fibonacci es un archivo .py creado por el usuario\n",
    "\n",
    "# para importar del modulo/archivo functools la funcion reduce\n",
    "from functools import reduce\n",
    "reduce() # functools es un modulo definido por el lenguaje\n",
    "\n",
    "# importo todo el modulo/archivo\n",
    "import mi_modulo\n",
    "\n",
    "# la diferencia es que no tengo que llamarla con el punto la funcion\n",
    "import random\n",
    "random.randrange(80) # llamando al modulo y la funcion\n",
    "from random import *\n",
    "randrange(80)  # llamando solo la funcion"
   ]
  },
  {
   "cell_type": "code",
   "execution_count": null,
   "metadata": {
    "pycharm": {
     "name": "#%%\n"
    }
   },
   "outputs": [],
   "source": [
    "# si queremos invocar un modulo (e invocar a la funcion) desde\n",
    "# la linea de comandos, le pasamos los parametros desp de llamar el archivo\n",
    "# por ej: $ python desdeConsola.py parametro1 parametro2 etc\n",
    "import sys\n",
    "type(sys.argv)"
   ]
  },
  {
   "cell_type": "markdown",
   "metadata": {
    "pycharm": {
     "name": "#%% md\n"
    }
   },
   "source": [
    "# Archivos"
   ]
  },
  {
   "cell_type": "markdown",
   "metadata": {
    "pycharm": {
     "name": "#%% md\n"
    }
   },
   "source": [
    "* rutas"
   ]
  },
  {
   "cell_type": "code",
   "execution_count": null,
   "metadata": {
    "pycharm": {
     "name": "#%%\n"
    }
   },
   "outputs": [],
   "source": [
    "# tambien se usan con import como los modulos predefinidos del lenguaje.\n",
    "# para trabajar con las rutas de los archivos.\n",
    "import os\n",
    "# ver la ruta donde esta el archivo\n",
    "os.getcwd()\n",
    "\n",
    "nombre_carpeta = \"archivos\"\n",
    "ruta_carpeta = os.path.join(os.getcwd(), '..', nombre_carpeta)\n",
    "nombre_archivo = \"file.csv\"\n",
    "ruta_completa = os.path.join(ruta_carpeta, nombre_archivo)\n",
    "\n",
    "# otra -> con el punto le digo hasta que carpeta genera el realpath\n",
    "ruta_completa = os.path.join(os.path.realpath('.'), \"archivos\", \"file.csv\")"
   ]
  },
  {
   "cell_type": "markdown",
   "metadata": {
    "pycharm": {
     "name": "#%% md\n"
    }
   },
   "source": [
    "* crear carpetas"
   ]
  },
  {
   "cell_type": "code",
   "execution_count": null,
   "metadata": {
    "pycharm": {
     "name": "#%%\n"
    }
   },
   "outputs": [],
   "source": [
    "import os\n",
    "\n",
    "os.mkdir(\"archivos\")  # crea la carpeta llamada archivos"
   ]
  },
  {
   "cell_type": "markdown",
   "metadata": {
    "pycharm": {
     "name": "#%% md\n"
    }
   },
   "source": [
    "* tipo de apertura de archivo"
   ]
  },
  {
   "cell_type": "code",
   "execution_count": null,
   "metadata": {
    "pycharm": {
     "name": "#%%\n"
    }
   },
   "outputs": [],
   "source": [
    "# con 'w' (escribe) el archivo desde el comienzo, si esta escrito, pisa el\n",
    "# archivo. solo de escritura, no permite leer.\n",
    "with open(archivo, 'w', encoding='utf-8') as fp:\n",
    "\tfp.write()\n",
    "\tfp.writelines()\n",
    "# y con la w si el archivo no existe, te lo crea\n",
    "# si el archivo estaba escrito, borra todo\n",
    "# 'wb' para escribir un binario"
   ]
  },
  {
   "cell_type": "code",
   "execution_count": null,
   "metadata": {
    "pycharm": {
     "name": "#%%\n"
    }
   },
   "outputs": [],
   "source": [
    "# con 'a' es append, (escribir) con el puntero al final del archivo.\n",
    "with open(archivo, 'a', encoding='utf-8') as fp:\n",
    "    fp.write()\n",
    "    fp.writelines()\n",
    "# y con la a si el archivo no existe, lo crea\n",
    "# 'ab' para agregar en un binario"
   ]
  },
  {
   "cell_type": "code",
   "execution_count": null,
   "metadata": {
    "pycharm": {
     "name": "#%%\n"
    }
   },
   "outputs": [],
   "source": [
    "# con 'x' crea el archivo (escribir).\n",
    "archi2 = open(archivo, 'x', encoding='utf-8')\n",
    "# y con la x si el archivo ya existe, te da error\n",
    "# 'xb' para crear un binario"
   ]
  },
  {
   "cell_type": "code",
   "execution_count": null,
   "metadata": {
    "pycharm": {
     "name": "#%%\n"
    }
   },
   "outputs": [],
   "source": [
    "# con 'r' posiciona el puntero al principio y te permite solo (leer).\n",
    "with open(archivo, 'r', encoding='utf-8') as fp:\n",
    "\tprint(fp.read())\n",
    "\tprint(fp.readline())\n",
    "# y en este caso abre y cierra el archivo automaticamente cuando termina\n",
    "# de ejecutarse el with y si guardo el resultado en una variable, puedo\n",
    "# manejar el contenido del archivo en RAM y con el archivo guardado y cerrado.\n",
    "# 'rb' para leer como binario\n",
    "# 'rb+' para abrirlo, leer y escribir (y no sobre escribir) en binario"
   ]
  },
  {
   "cell_type": "markdown",
   "metadata": {
    "pycharm": {
     "name": "#%% md\n"
    }
   },
   "source": [
    "* otras operaciones"
   ]
  },
  {
   "cell_type": "code",
   "execution_count": null,
   "metadata": {
    "pycharm": {
     "name": "#%%\n"
    }
   },
   "outputs": [],
   "source": [
    "# operaciones con archivos binarios\n",
    "archivo = open(\"un_arch.txt\", 'rb', encoding='utf-8')\n",
    "\n",
    "# para saber la posicion del puntero en el archivo\n",
    "archivo.tell()\n",
    "\n",
    "# para ir a una posicion especifica y agregar / modificar\n",
    "# solo en binaios, en este caso voy desde el final menos 18 posiciones\n",
    "# 0: desde el comienzo\n",
    "# 1: desde la posicion actual\n",
    "# 2: desde el final\n",
    "archivo.seek(-18, 2)\n",
    "\n",
    "# el -18 es la cantidad de bytes a desplazar\n",
    "# para usar el seek, hay que abrir el archivo como binario y\n",
    "# para leer tengo que usar el decode para decodificarlo\n",
    "archivo.read().decode('utf-8')\n",
    "\n",
    "# para escribir en un archivo binario en cualquier lugar tengo\n",
    "# que hacerlo en bytes, (si es al final solamente se usa el 'a')\n",
    "archivo.write(bytes(\"hola\", \"utf-8\"))"
   ]
  },
  {
   "cell_type": "code",
   "execution_count": null,
   "metadata": {
    "pycharm": {
     "name": "#%%\n"
    }
   },
   "outputs": [],
   "source": [
    "# parametros por defecto.\n",
    "file_name = open('archivo.txt')\n",
    "open(file_name, mode='r', buffering=-1, encoding=None,\n",
    "    errors=None, newline=None, closefd=True, opener=None)"
   ]
  },
  {
   "cell_type": "markdown",
   "metadata": {
    "pycharm": {
     "name": "#%% md\n"
    }
   },
   "source": [
    "### json"
   ]
  },
  {
   "cell_type": "code",
   "execution_count": null,
   "metadata": {
    "pycharm": {
     "name": "#%%\n"
    }
   },
   "outputs": [],
   "source": [
    "# para importar y usar los archivos de texto ---> json <---\n",
    "import json\n",
    "archivo = \"hola.json\"\n",
    "\n",
    "# escribir <---\n",
    "# pasa de lista de diccionario en python a un archivo de texto json,\n",
    "# la bajo a un archivo en formato texto/string json.\n",
    "with open(archivo, 'w', encoding='utf-8') as fp:\n",
    "    json.dump(datos, fp, indent=4) # escribit\n",
    "\n",
    "# otro\n",
    "# de una lista de diccionario en python a una cadena de caracteres\n",
    "# en una variable asignada con formato json.\n",
    "datos_a_mostrar = json.dumps(datos, indent=4) # convertir de python a json\n",
    "\n",
    "# leer <---\n",
    "# pasa de archivo de texto json a lista de diccionario en python.\n",
    "with open(archivo, 'r', encoding='utf-8') as fp:\n",
    "    datos = json.load(fp) # leer\n",
    "\n",
    "# otro\n",
    "# pasa de archivo de texto json a una lista de diccionarios en python\n",
    "# en una variable asignada.\n",
    "datos = json.loads(archivo) # convertir de json a python"
   ]
  },
  {
   "cell_type": "markdown",
   "metadata": {
    "pycharm": {
     "name": "#%% md\n"
    }
   },
   "source": [
    "### csv"
   ]
  },
  {
   "cell_type": "code",
   "execution_count": null,
   "metadata": {
    "pycharm": {
     "name": "#%%\n"
    }
   },
   "outputs": [],
   "source": [
    "# csv <----------------\n",
    "import csv\n",
    "\n",
    "archivo = \"hola.csv\"\n",
    "\n",
    "# escribir de una variable en python a una archivo con datos csv\n",
    "with open(archivo, 'w', encoding='utf-8', newline='') as fp:\n",
    "    # objeto tipo writer, para iterar las filas\n",
    "    writer = csv.writer(fp, delimiter=',')\n",
    "    # escribir la fila\n",
    "    writer.writerow([\"fila_1_titulo\", \"fila_2_titulo\", \"fila_3_titulo\"])\n",
    "    for dato in datos:\n",
    "        writer.writerow([dato[\"fila_1\"], dato[\"fila_2\"], dato[\"fila_3\"]])\n",
    "\n",
    "# leer el archivo con datos csv a una variable en python\n",
    "with open(archivo, 'r', encoding='utf-8', newline='') as fp:\n",
    "    datos = csv.reader(fp, delimiter=',') # leer\n",
    "\n",
    "# escribir en un archivo csv que si existe y tiene esas columnas, agrega al final\n",
    "with open(archivo, 'a+', encoding='utf-8', newline='') as datos:\n",
    "    writer = csv.writer(datos, delimiter=',')\n",
    "\n",
    "    if os.stat(archivo).st_size == 0:\n",
    "        writer.writerow(['timestamp', 'id', 'evento', 'nombre_jugador', 'edad_jugador',\n",
    "                        'sexo_jugador', 'estado', 'texto_ingresado', 'respuesta', 'nivel'])\n",
    "\n",
    "    writer.writerow(self.get_todos_datos())\n",
    "\n",
    "# otra manera de leer los datos es guardarlos en una lista\n",
    "header_csv, datos_csv = next(fp), list(fp)\n",
    "\n",
    "# para iterar sobre el csv se puede usar el for, filter o map.\n",
    "# o guardar los datos en una lista como en \"header_csv, datos_csv\"\n",
    "\n",
    "# parametros del csv\n",
    "csv.reader(archivo, dialect='excel', **fmtparams)\n",
    "\n",
    "# para ver si el csv esta vasio\n",
    "if os.stat(archivo).st_size == 0:"
   ]
  }
 ],
 "metadata": {
  "interpreter": {
   "hash": "4d77ae738600f747b105c6d85e862b2c29e9ca3791a44bcb19cb523baf9e461d"
  },
  "kernelspec": {
   "display_name": "Python 3.10.4 64-bit",
   "language": "python",
   "name": "python3"
  },
  "language_info": {
   "name": "python",
   "version": "3.10.4"
  },
  "orig_nbformat": 4
 },
 "nbformat": 4,
 "nbformat_minor": 2
}