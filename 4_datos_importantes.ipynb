{
 "cells": [
  {
   "cell_type": "markdown",
   "metadata": {
    "pycharm": {
     "name": "#%% md\n"
    }
   },
   "source": [
    "# La clase datatime"
   ]
  },
  {
   "cell_type": "code",
   "execution_count": 2,
   "metadata": {
    "pycharm": {
     "name": "#%%\n"
    }
   },
   "outputs": [],
   "source": [
    "import datetime\n",
    "import time"
   ]
  },
  {
   "cell_type": "code",
   "execution_count": null,
   "metadata": {
    "pycharm": {
     "name": "#%%\n"
    }
   },
   "outputs": [],
   "source": [
    "# para saber que fecha es hoy\n",
    "x = datetime.datetime.now()\n",
    "print(x)\n",
    "print('maximo ' + str(x.max))\n",
    "print('mes ' + str(x.month))\n",
    "print('hora ' + str(x.hour))\n",
    "print(x.time())\n",
    "print(x.date())\n",
    "print()\n",
    "\n",
    "# para pasar de string a fecha\n",
    "fecha = datetime.date.fromisoformat('2019-12-04')\n",
    "print(fecha)\n",
    "print()\n",
    "\n",
    "# para saber que numero de dia es hoy\n",
    "nro_dia = datetime.datetime.today().weekday()\n",
    "print(nro_dia)\n",
    "dias_semana = ['lunes', 'martes', 'miercoles',\n",
    "               'jueves', 'viernes', 'sabado', 'domingo'\n",
    "               ]\n",
    "print(dias_semana[nro_dia])\n",
    "print()\n",
    "\n",
    "# Para guardar los datos en archivos se debe guardar en string indicando el\n",
    "# formato en que queremos guardarla\n",
    "horario_juego = datetime.datetime.now().strftime(\"%d-%m-%Y, %H:%M:%S\")\n",
    "print(horario_juego)\n",
    "print()\n",
    "\n",
    "# pasar de string a la clase datatime\n",
    "fecha2 = datetime.datetime.strptime('12 06 2020 12:34:32', \"%m %d %Y %H:%M:%S\")\n",
    "print(fecha2)\n",
    "fecha2 = datetime.datetime.strptime('2019-12-04', \"%Y-%m-%d\")\n",
    "print(fecha2)\n",
    "\n",
    "# calculos con fechas\n",
    "fecha_pasada = datetime.datetime(2020, 10, 23)\n",
    "diferencia = x - fecha_pasada\n",
    "print(diferencia)\n",
    "print(diferencia.days)"
   ]
  },
  {
   "cell_type": "code",
   "execution_count": 3,
   "metadata": {
    "pycharm": {
     "name": "#%%\n"
    }
   },
   "outputs": [],
   "source": [
    "tiempo_comienzo = time.time()\n",
    "tiempo_total = 25"
   ]
  },
  {
   "cell_type": "code",
   "execution_count": null,
   "metadata": {
    "pycharm": {
     "name": "#%%\n",
     "is_executing": true
    }
   },
   "outputs": [],
   "source": [
    "# controlar el paso del tiempo\n",
    "delta_tiempo = time.time() - tiempo_comienzo\n",
    "tiempo_transcurrido = int(tiempo_total - delta_tiempo)\n",
    "minutos, segundos = divmod(tiempo_transcurrido, 60)\n",
    "print(minutos, segundos)"
   ]
  },
  {
   "cell_type": "code",
   "execution_count": null,
   "metadata": {
    "pycharm": {
     "name": "#%%\n",
     "is_executing": true
    }
   },
   "outputs": [],
   "source": [
    "import time\n",
    "\n",
    "tiempo = 10\n",
    "for i in range(tiempo):\n",
    "    print(i)\n",
    "    time.sleep(1)"
   ]
  },
  {
   "cell_type": "markdown",
   "metadata": {
    "pycharm": {
     "name": "#%% md\n"
    }
   },
   "source": [
    "# Las clases error definidas en pyhton"
   ]
  },
  {
   "cell_type": "code",
   "execution_count": null,
   "metadata": {
    "pycharm": {
     "name": "#%%\n"
    }
   },
   "outputs": [],
   "source": [
    "dicci = {0:\"Led Zeppelin\", 2:\"Deep Purple\", 3:\"Black Sabbath\"}\n",
    "try:\n",
    "    print ('Entramos al bloque try')\n",
    "    for x in range(1,6):\n",
    "        if x == 2 or x == 3:\n",
    "            raise KeyError\n",
    "        else:\n",
    "            print(dicci[x])    # *\n",
    "    print('Continuamos con el proceso..')\n",
    "except KeyError as exc:\n",
    "    dicci[x] = 'NUEVO'\n",
    "    datos_exc = exc\n",
    "    # con el import sys puedo ver que excepcion se ejecuto y por que\n",
    "    import sys\n",
    "    print(sys.exc_info())\n",
    "print(datos_exc)\n",
    "print(dicci)\n",
    "\n",
    "# * como entro al else por no ser ni 2 ni 3 va al print, pero como no existe\n",
    "# * esa clave, va al error exception KeyError."
   ]
  }
 ],
 "metadata": {
  "kernelspec": {
   "display_name": "Python 3.10.4 64-bit",
   "language": "python",
   "name": "python3"
  },
  "language_info": {
   "codemirror_mode": {
    "name": "ipython",
    "version": 3
   },
   "file_extension": ".py",
   "mimetype": "text/x-python",
   "name": "python",
   "nbconvert_exporter": "python",
   "pygments_lexer": "ipython3",
   "version": "3.10.4"
  },
  "orig_nbformat": 4,
  "vscode": {
   "interpreter": {
    "hash": "4d77ae738600f747b105c6d85e862b2c29e9ca3791a44bcb19cb523baf9e461d"
   }
  }
 },
 "nbformat": 4,
 "nbformat_minor": 2
}