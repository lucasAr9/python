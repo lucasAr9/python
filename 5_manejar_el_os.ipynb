{
 "cells": [
  {
   "attachments": {},
   "cell_type": "markdown",
   "metadata": {},
   "source": [
    "# Modulo OS"
   ]
  },
  {
   "cell_type": "code",
   "execution_count": null,
   "metadata": {},
   "outputs": [],
   "source": [
    "import os\n",
    "\n",
    "print(os.getcwd())                 # mostrar ruta actual\n",
    "\n",
    "print(os.listdir())                # listar contenido del directorio \"ls\"\n",
    "for item in os.listdir():\n",
    "    print(item)\n",
    "\n",
    "os.chdir(\"/hom/luk/Documentos\")    # cambiar de directorio\n",
    "\n",
    "os.remove(\"nombre_archivo.txt\")    # borrar archivo\n",
    "os.rmdir(\"directorio\")             # borrar directorio\n",
    "\n",
    "os.mkdir(\"nombre_dir\")             # crear directorio\n",
    "\n",
    "# Crear un archivo llamado \"archivo.txt\" en modo escritura\n",
    "f = open(\"archivo.txt\", \"w\")\n",
    "f.write(\"Hola, mundo!\")\n",
    "f.close()\n",
    "\n",
    "# Crear un archivo llamado \"archivo.txt\" en modo agregar\n",
    "f = open(\"archivo.txt\", \"a\")\n",
    "f.write(\"¡Bienvenido a Python!\")\n",
    "f.close()\n"
   ]
  }
 ],
 "metadata": {
  "kernelspec": {
   "display_name": "env",
   "language": "python",
   "name": "python3"
  },
  "language_info": {
   "codemirror_mode": {
    "name": "ipython",
    "version": 3
   },
   "file_extension": ".py",
   "mimetype": "text/x-python",
   "name": "python",
   "nbconvert_exporter": "python",
   "pygments_lexer": "ipython3",
   "version": "3.11.1"
  },
  "orig_nbformat": 4,
  "vscode": {
   "interpreter": {
    "hash": "aa4dfe0cde3b2a57e925d0338177f87628832ed6c8aa47eb7f043fe07b572e2c"
   }
  }
 },
 "nbformat": 4,
 "nbformat_minor": 2
}
