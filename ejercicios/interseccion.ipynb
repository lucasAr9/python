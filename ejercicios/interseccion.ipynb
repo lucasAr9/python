{
 "cells": [
  {
   "attachments": {},
   "cell_type": "markdown",
   "metadata": {
    "datalore": {
     "hide_input_from_viewers": false,
     "hide_output_from_viewers": false,
     "node_id": "r3hayofns0eqQ1wQjbimGq",
     "type": "MD"
    }
   },
   "source": [
    "1. Usuario de stack overflow"
   ]
  },
  {
   "cell_type": "code",
   "execution_count": null,
   "metadata": {
    "datalore": {
     "hide_input_from_viewers": false,
     "hide_output_from_viewers": false,
     "node_id": "YbHB7iURmj80zok3iIjMPH",
     "type": "CODE"
    }
   },
   "outputs": [],
   "source": [
    "from __future__ import division \n",
    "\n",
    "def line(p1, p2):\n",
    "    A = (p1[1] - p2[1])\n",
    "    B = (p2[0] - p1[0])\n",
    "    C = (p1[0]*p2[1] - p2[0]*p1[1])\n",
    "    return A, B, -C\n",
    "\n",
    "def intersection(L1, L2):\n",
    "    D  = L1[0] * L2[1] - L1[1] * L2[0]\n",
    "    Dx = L1[2] * L2[1] - L1[1] * L2[2]\n",
    "    Dy = L1[0] * L2[2] - L1[2] * L2[0]\n",
    "    if D != 0:\n",
    "        x = Dx / D\n",
    "        y = Dy / D\n",
    "        return x,y\n",
    "    else:\n",
    "        return False"
   ]
  },
  {
   "cell_type": "code",
   "execution_count": null,
   "metadata": {
    "datalore": {
     "hide_input_from_viewers": false,
     "hide_output_from_viewers": false,
     "node_id": "78fOWRBHgHyEw0fD4RcE0P",
     "type": "CODE"
    }
   },
   "outputs": [],
   "source": [
    "L1 = line([0,1], [2,3])\n",
    "L2 = line([2,3], [0,4])\n",
    "\n",
    "R = intersection(L1, L2)\n",
    "if R:\n",
    "    print(\"Intersection detected:\", R)\n",
    "else:\n",
    "    print(\"No single intersection point detected\")"
   ]
  },
  {
   "attachments": {},
   "cell_type": "markdown",
   "metadata": {
    "datalore": {
     "hide_input_from_viewers": false,
     "hide_output_from_viewers": false,
     "node_id": "ADNyWplrLPMvqQMIonxJEj",
     "type": "MD"
    }
   },
   "source": [
    "2. Usuario de stack overflow"
   ]
  },
  {
   "cell_type": "code",
   "execution_count": null,
   "metadata": {
    "datalore": {
     "hide_input_from_viewers": false,
     "hide_output_from_viewers": false,
     "node_id": "f6Zxh7rVIKHFACBU60nn0N",
     "type": "CODE"
    }
   },
   "outputs": [],
   "source": [
    "import numpy as np\n",
    "import matplotlib.pyplot as plt\n",
    "\"\"\"\n",
    "Sukhbinder\n",
    "5 April 2017\n",
    "Based on:    \n",
    "\"\"\"\n",
    "\n",
    "def _rect_inter_inner(x1,x2):\n",
    "    n1=x1.shape[0]-1\n",
    "    n2=x2.shape[0]-1\n",
    "    X1=np.c_[x1[:-1],x1[1:]]\n",
    "    X2=np.c_[x2[:-1],x2[1:]]    \n",
    "    S1=np.tile(X1.min(axis=1),(n2,1)).T\n",
    "    S2=np.tile(X2.max(axis=1),(n1,1))\n",
    "    S3=np.tile(X1.max(axis=1),(n2,1)).T\n",
    "    S4=np.tile(X2.min(axis=1),(n1,1))\n",
    "    return S1,S2,S3,S4\n",
    "\n",
    "def _rectangle_intersection_(x1,y1,x2,y2):\n",
    "    S1,S2,S3,S4=_rect_inter_inner(x1,x2)\n",
    "    S5,S6,S7,S8=_rect_inter_inner(y1,y2)\n",
    "\n",
    "    C1=np.less_equal(S1,S2)\n",
    "    C2=np.greater_equal(S3,S4)\n",
    "    C3=np.less_equal(S5,S6)\n",
    "    C4=np.greater_equal(S7,S8)\n",
    "\n",
    "    ii,jj=np.nonzero(C1 & C2 & C3 & C4)\n",
    "    return ii,jj\n",
    "\n",
    "def intersection(x1,y1,x2,y2):\n",
    "    \"\"\"\n",
    "INTERSECTIONS Intersections of curves.\n",
    "   Computes the (x,y) locations where two curves intersect.  The curves\n",
    "   can be broken with NaNs or have vertical segments.\n",
    "usage:\n",
    "x,y=intersection(x1,y1,x2,y2)\n",
    "    Example:\n",
    "    a, b = 1, 2\n",
    "    phi = np.linspace(3, 10, 100)\n",
    "    x1 = a*phi - b*np.sin(phi)\n",
    "    y1 = a - b*np.cos(phi)\n",
    "    x2=phi    \n",
    "    y2=np.sin(phi)+2\n",
    "    x,y=intersection(x1,y1,x2,y2)\n",
    "    plt.plot(x1,y1,c='r')\n",
    "    plt.plot(x2,y2,c='g')\n",
    "    plt.plot(x,y,'*k')\n",
    "    plt.show()\n",
    "    \"\"\"\n",
    "    ii,jj=_rectangle_intersection_(x1,y1,x2,y2)\n",
    "    n=len(ii)\n",
    "\n",
    "    dxy1=np.diff(np.c_[x1,y1],axis=0)\n",
    "    dxy2=np.diff(np.c_[x2,y2],axis=0)\n",
    "\n",
    "    T=np.zeros((4,n))\n",
    "    AA=np.zeros((4,4,n))\n",
    "    AA[0:2,2,:]=-1\n",
    "    AA[2:4,3,:]=-1\n",
    "    AA[0::2,0,:]=dxy1[ii,:].T\n",
    "    AA[1::2,1,:]=dxy2[jj,:].T\n",
    "\n",
    "    BB=np.zeros((4,n))\n",
    "    BB[0,:]=-x1[ii].ravel()\n",
    "    BB[1,:]=-x2[jj].ravel()\n",
    "    BB[2,:]=-y1[ii].ravel()\n",
    "    BB[3,:]=-y2[jj].ravel()\n",
    "\n",
    "    for i in range(n):\n",
    "        try:\n",
    "            T[:,i]=np.linalg.solve(AA[:,:,i],BB[:,i])\n",
    "        except:\n",
    "            T[:,i]=np.NaN\n",
    "\n",
    "\n",
    "    in_range= (T[0,:] >=0) & (T[1,:] >=0) & (T[0,:] <=1) & (T[1,:] <=1)\n",
    "\n",
    "    xy0=T[2:,in_range]\n",
    "    xy0=xy0.T\n",
    "    return xy0[:,0],xy0[:,1]\n",
    "\n",
    "\n",
    "if __name__ == '__main__':\n",
    "\n",
    "    # a piece of a prolate cycloid, and am going to find\n",
    "    a, b = 1, 2\n",
    "    phi = np.linspace(3, 10, 100)\n",
    "    x1 = a*phi - b*np.sin(phi)\n",
    "    y1 = a - b*np.cos(phi)\n",
    "\n",
    "    x2=phi\n",
    "    y2=np.sin(phi)+2\n",
    "    x,y=intersection(x1,y1,x2,y2)\n",
    "    plt.plot(x1,y1,c='r')\n",
    "    plt.plot(x2,y2,c='g')\n",
    "    plt.plot(x,y,'*k')\n",
    "    plt.show()"
   ]
  },
  {
   "attachments": {},
   "cell_type": "markdown",
   "metadata": {
    "datalore": {
     "hide_input_from_viewers": false,
     "hide_output_from_viewers": false,
     "node_id": "YKCTwlKuTGKmWBt4YIR8M7",
     "type": "MD"
    }
   },
   "source": [
    "3. Usuario de stack overflow"
   ]
  },
  {
   "cell_type": "code",
   "execution_count": null,
   "metadata": {
    "datalore": {
     "hide_input_from_viewers": false,
     "hide_output_from_viewers": false,
     "node_id": "o9I0OQ6Rdb3ofcX4aqLNAa",
     "type": "CODE"
    }
   },
   "outputs": [],
   "source": [
    "def slope(P1, P2):\n",
    "    # dy/dx\n",
    "    # (y2 - y1) / (x2 - x1)\n",
    "    return(P2[1] - P1[1]) / (P2[0] - P1[0])\n",
    "\n",
    "def y_intercept(P1, slope):\n",
    "    # y = mx + b\n",
    "    # b = y - mx\n",
    "    # b = P1[1] - slope * P1[0]\n",
    "    return P1[1] - slope * P1[0]\n",
    "\n",
    "def line_intersect(m1, b1, m2, b2):\n",
    "    if m1 == m2:\n",
    "        print (\"These lines are parallel!!!\")\n",
    "        return None\n",
    "    # y = mx + b\n",
    "    # Set both lines equal to find the intersection point in the x direction\n",
    "    # m1 * x + b1 = m2 * x + b2\n",
    "    # m1 * x - m2 * x = b2 - b1\n",
    "    # x * (m1 - m2) = b2 - b1\n",
    "    # x = (b2 - b1) / (m1 - m2)\n",
    "    x = (b2 - b1) / (m1 - m2)\n",
    "    # Now solve for y -- use either line, because they are equal here\n",
    "    # y = mx + b\n",
    "    y = m1 * x + b1\n",
    "    return x,y"
   ]
  },
  {
   "cell_type": "code",
   "execution_count": null,
   "metadata": {
    "datalore": {
     "hide_input_from_viewers": false,
     "hide_output_from_viewers": false,
     "node_id": "4cx4OKCj5qxwwrnGsWi59w",
     "type": "CODE"
    }
   },
   "outputs": [],
   "source": [
    "A1 = [1,1]\n",
    "A2 = [3,3]\n",
    "B1 = [1,3]\n",
    "B2 = [3,1]\n",
    "slope_A = slope(A1, A2)\n",
    "slope_B = slope(B1, B2)\n",
    "y_int_A = y_intercept(A1, slope_A)\n",
    "y_int_B = y_intercept(B1, slope_B)\n",
    "print(line_intersect(slope_A, y_int_A, slope_B, y_int_B))"
   ]
  }
 ],
 "metadata": {
  "datalore": {
   "base_environment": "default",
   "computation_mode": "JUPYTER",
   "package_manager": "pip",
   "packages": [],
   "version": 1
  },
  "kernelspec": {
   "display_name": "env",
   "language": "python",
   "name": "python3"
  },
  "language_info": {
   "codemirror_mode": {
    "name": "ipython",
    "version": 3
   },
   "file_extension": ".py",
   "mimetype": "text/x-python",
   "name": "python",
   "nbconvert_exporter": "python",
   "pygments_lexer": "ipython3",
   "version": "3.11.1"
  },
  "vscode": {
   "interpreter": {
    "hash": "aa4dfe0cde3b2a57e925d0338177f87628832ed6c8aa47eb7f043fe07b572e2c"
   }
  }
 },
 "nbformat": 4,
 "nbformat_minor": 4
}
