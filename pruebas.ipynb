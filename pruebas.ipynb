{
 "cells": [
  {
   "cell_type": "code",
   "execution_count": null,
   "metadata": {
    "pycharm": {
     "name": "#%%\n"
    }
   },
   "outputs": [],
   "source": [
    "# pysimpleGUI\n",
    "# el window.read() se queda estatica, si quiero mostrar algo mas,\n",
    "# tengo que hacer el argumento timeout. ej. para hacer un conteo.\n",
    "# window.read(timeout=500)\n",
    "layout = [\n",
    "            [sg.Image(r'C:\\PySimpleGUI\\Logos\\PySimpleGUI_Logo_320.png')],\n",
    "         ]\n",
    "\n",
    "sg.Text(\n",
    "    \"\",                \n",
    "    size=(8, 2),\n",
    "    font=(\"Helvetica\", 20),\n",
    "    justification=\"center\",  \n",
    "    key=\"-SIMPLE_TIMER-\",           \n",
    ")"
   ]
  },
  {
   "cell_type": "code",
   "execution_count": 1,
   "metadata": {},
   "outputs": [
    {
     "name": "stdout",
     "output_type": "stream",
     "text": [
      "CPU times: total: 0 ns\n",
      "Wall time: 0 ns\n"
     ]
    }
   ],
   "source": [
    "%%time\n",
    "tiempo = [x for x in range(5, 31) if (x % 5) == 0]"
   ]
  },
  {
   "cell_type": "code",
   "execution_count": 12,
   "metadata": {},
   "outputs": [
    {
     "name": "stdout",
     "output_type": "stream",
     "text": [
      "[1, 2, 3, 4, 5, 6, 7, 8, 9, 10]\n"
     ]
    }
   ],
   "source": [
    "rondas = [x for x in range(1, 11)]\n",
    "print(rondas)"
   ]
  },
  {
   "cell_type": "code",
   "execution_count": 14,
   "metadata": {
    "tags": []
   },
   "outputs": [
    {
     "name": "stdout",
     "output_type": "stream",
     "text": [
      "[5, 10, 15, 20, 25, 30]\n"
     ]
    }
   ],
   "source": [
    "una = [x for x in range(5, 31, 5)]\n",
    "print(una)"
   ]
  },
  {
   "cell_type": "code",
   "execution_count": null,
   "metadata": {},
   "outputs": [],
   "source": [
    "# setup.py\n",
    "import os\n",
    "\n",
    "root_dir = os.path.dirname(os.path.abspath(__file__))\n",
    "config_path = os.path.join(root_dir, 'config')\n",
    "data_window = os.path.join(root_dir, 'data')"
   ]
  },
  {
   "cell_type": "code",
   "execution_count": null,
   "metadata": {},
   "outputs": [],
   "source": [
    "import os\n",
    "import os.path\n",
    "\n",
    "print(f\"__file__: {__file__}\")\n",
    "print(f\"dirname(__file__): {os.path.dirname(__file__)}\")\n",
    "print(f\"os.getcwd(): {os.getcwd()}\")\n",
    "print(f\"abspath(dirname('')) {os.path.abspath(os.path.dirname(''))}\")"
   ]
  },
  {
   "cell_type": "code",
   "execution_count": null,
   "metadata": {},
   "outputs": [],
   "source": [
    "import otromodulo\n",
    "\n",
    "if __name__ == '__main__':\n",
    "    print(\"este es principal\")"
   ]
  },
  {
   "cell_type": "code",
   "execution_count": null,
   "metadata": {},
   "outputs": [],
   "source": [
    "class Event:\n",
    "    name: str\n",
    "    value: dict = field(default_factory=None)"
   ]
  },
  {
   "cell_type": "code",
   "execution_count": null,
   "metadata": {},
   "outputs": [],
   "source": [
    "pip install check_environment"
   ]
  },
  {
   "cell_type": "code",
   "execution_count": null,
   "metadata": {},
   "outputs": [],
   "source": [
    "from check_environment import run_checks\n",
    "run_checks()"
   ]
  },
  {
   "cell_type": "code",
   "execution_count": null,
   "metadata": {},
   "outputs": [],
   "source": []
  }
 ],
 "metadata": {
  "interpreter": {
   "hash": "4d77ae738600f747b105c6d85e862b2c29e9ca3791a44bcb19cb523baf9e461d"
  },
  "kernelspec": {
   "display_name": "Python 3 (ipykernel)",
   "language": "python",
   "name": "python3"
  },
  "language_info": {
   "codemirror_mode": {
    "name": "ipython",
    "version": 3
   },
   "file_extension": ".py",
   "mimetype": "text/x-python",
   "name": "python",
   "nbconvert_exporter": "python",
   "pygments_lexer": "ipython3",
   "version": "3.10.4"
  }
 },
 "nbformat": 4,
 "nbformat_minor": 4
}
